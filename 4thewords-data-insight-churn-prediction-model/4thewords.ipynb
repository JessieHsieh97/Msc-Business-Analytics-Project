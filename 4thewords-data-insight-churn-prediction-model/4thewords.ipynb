{
 "cells": [
  {
   "cell_type": "markdown",
   "metadata": {
    "id": "GJZUy2qyxKIU"
   },
   "source": [
    "## **Import Packages**"
   ]
  },
  {
   "cell_type": "code",
   "execution_count": null,
   "metadata": {
    "id": "4PkF3DbEyOYx"
   },
   "outputs": [],
   "source": [
    "import pandas as pd\n",
    "from sklearn.ensemble import RandomForestClassifier\n",
    "from sklearn.model_selection import RandomizedSearchCV\n",
    "from sklearn.model_selection import StratifiedKFold\n",
    "from statsmodels.stats.outliers_influence import variance_inflation_factor\n",
    "from imblearn.over_sampling import SMOTE\n",
    "from sklearn.model_selection import train_test_split"
   ]
  },
  {
   "cell_type": "markdown",
   "metadata": {
    "id": "5u8tt8P5yQAB"
   },
   "source": [
    "## **Call File (Replace 'ADD IN NEW FILE NAME' with actual 'File Name')**\n"
   ]
  },
  {
   "cell_type": "code",
   "execution_count": null,
   "metadata": {
    "id": "KL6msjNoxHu8"
   },
   "outputs": [],
   "source": [
    "user_behavior_train = pd.read_csv('user_behavior_final.csv', low_memory=False)\n",
    "new_user_behavior= pd.read_csv('june13-july13_user_behavior.csv', low_memory=False)"
   ]
  },
  {
   "cell_type": "markdown",
   "metadata": {
    "id": "PwgqLdHj5M1w"
   },
   "source": [
    "# **Data Preparation and Training**"
   ]
  },
  {
   "cell_type": "markdown",
   "metadata": {
    "id": "Yh2s0Gbi_lEE"
   },
   "source": [
    "**Data preparation for unseen data**"
   ]
  },
  {
   "cell_type": "code",
   "execution_count": null,
   "metadata": {
    "id": "ZE-UxnaszXtQ"
   },
   "outputs": [],
   "source": [
    "#Seperate 'iduser' in new_user_behavior, and create a sepereate dataframe of 'iduser'\n",
    "new_user_behavior_no_iduser = new_user_behavior.drop(columns=['iduser'])\n",
    "# Get a copy of the new_user_behavior file\n",
    "iduser_new_user_behavior = new_user_behavior[['iduser']].copy()\n"
   ]
  },
  {
   "cell_type": "markdown",
   "metadata": {
    "id": "nh-Te1H9AGf2"
   },
   "source": [
    "**Data preparation for model training**"
   ]
  },
  {
   "cell_type": "code",
   "execution_count": null,
   "metadata": {
    "id": "s0wwPsoO0PNP"
   },
   "outputs": [],
   "source": [
    "# Replace column name\n",
    "user_behavior_train = user_behavior_train.rename(columns={'paid_user': 'churn'})\n",
    "\n",
    "# Replace 0 with 1 and 1 with 0 in the 'churn' column\n",
    "user_behavior_train['churn'] = user_behavior_train['churn'].replace({0: 1, 1: 0})"
   ]
  },
  {
   "cell_type": "code",
   "execution_count": null,
   "metadata": {
    "colab": {
     "base_uri": "https://localhost:8080/"
    },
    "id": "Rb2wE3gj0ZpB",
    "outputId": "b619e958-810f-4e50-9fb3-c1e53c758216"
   },
   "outputs": [
    {
     "name": "stdout",
     "output_type": "stream",
     "text": [
      "             Feature  VIF Score\n",
      "0             iduser   4.610919\n",
      "1              churn   3.337196\n",
      "2       streak_count   1.438091\n",
      "3        hero_area>1   2.000543\n",
      "4       battle_count   4.190796\n",
      "5         file_count   1.865816\n",
      "6          num_items   5.697546\n",
      "7      mission_count   3.586429\n",
      "8   wardrobe_updated   1.849511\n",
      "9          wordcount   2.629728\n",
      "10    friends_amount   1.063740\n",
      "11        chat_count   1.042952\n"
     ]
    }
   ],
   "source": [
    "# Calculate the VIF scores\n",
    "vif = pd.DataFrame()\n",
    "vif[\"Feature\"] = user_behavior_train.columns\n",
    "vif[\"VIF Score\"] = [variance_inflation_factor(user_behavior_train.values, i) for i in range(user_behavior_train.shape[1])]\n",
    "\n",
    "# Print the VIF scores\n",
    "print(vif)"
   ]
  },
  {
   "cell_type": "code",
   "execution_count": null,
   "metadata": {
    "id": "cFj_ZD900UmU"
   },
   "outputs": [],
   "source": [
    "# drop high correlation and less important column\n",
    "columns_to_drop = ['num_items']\n",
    "user_behavior_train = user_behavior_train.drop(columns_to_drop, axis=1)"
   ]
  },
  {
   "cell_type": "code",
   "execution_count": null,
   "metadata": {
    "colab": {
     "base_uri": "https://localhost:8080/"
    },
    "id": "MWrAPBsg0cLM",
    "outputId": "17c15a3e-76fb-4931-abf5-5f2da0409411"
   },
   "outputs": [
    {
     "name": "stdout",
     "output_type": "stream",
     "text": [
      "X_train shape: (24001, 9)\n",
      "y_train shape: (24001,)\n",
      "X_val shape: (10287, 9)\n",
      "y_val shape: (10287,)\n",
      "X_test shape: (14695, 9)\n",
      "y_test shape: (14695,)\n"
     ]
    }
   ],
   "source": [
    "X = user_behavior_train.drop(columns=['iduser', 'churn'])\n",
    "y = user_behavior_train['churn']\n",
    "\n",
    "# Splitting the data into training and test sets\n",
    "X_train, X_test, y_train, y_test = train_test_split(X, y, test_size=0.3, random_state=52)\n",
    "\n",
    "# Split the training set into training and validation sets\n",
    "X_train, X_val, y_train, y_val = train_test_split(X_train, y_train, test_size=0.3, random_state=52)\n",
    "\n",
    "\n",
    "# Print the shapes of the resulting datasets\n",
    "print(f\"X_train shape: {X_train.shape}\")\n",
    "print(f\"y_train shape: {y_train.shape}\")\n",
    "print(f\"X_val shape: {X_val.shape}\")\n",
    "print(f\"y_val shape: {y_val.shape}\")\n",
    "print(f\"X_test shape: {X_test.shape}\")\n",
    "print(f\"y_test shape: {y_test.shape}\")"
   ]
  },
  {
   "cell_type": "code",
   "execution_count": null,
   "metadata": {
    "id": "dSvHEFdB0fZ-"
   },
   "outputs": [],
   "source": [
    "smote = SMOTE(random_state=42)\n",
    "X_train_resampled, y_train_resampled = smote.fit_resample(X_train, y_train)\n"
   ]
  },
  {
   "cell_type": "code",
   "execution_count": null,
   "metadata": {
    "colab": {
     "base_uri": "https://localhost:8080/",
     "height": 72
    },
    "id": "DYl13mi0whU5",
    "outputId": "b9255bad-db92-4666-b1d6-b98efe06a64b"
   },
   "outputs": [
    {
     "data": {
      "text/html": [
       "<style>#sk-container-id-3 {color: black;background-color: white;}#sk-container-id-3 pre{padding: 0;}#sk-container-id-3 div.sk-toggleable {background-color: white;}#sk-container-id-3 label.sk-toggleable__label {cursor: pointer;display: block;width: 100%;margin-bottom: 0;padding: 0.3em;box-sizing: border-box;text-align: center;}#sk-container-id-3 label.sk-toggleable__label-arrow:before {content: \"▸\";float: left;margin-right: 0.25em;color: #696969;}#sk-container-id-3 label.sk-toggleable__label-arrow:hover:before {color: black;}#sk-container-id-3 div.sk-estimator:hover label.sk-toggleable__label-arrow:before {color: black;}#sk-container-id-3 div.sk-toggleable__content {max-height: 0;max-width: 0;overflow: hidden;text-align: left;background-color: #f0f8ff;}#sk-container-id-3 div.sk-toggleable__content pre {margin: 0.2em;color: black;border-radius: 0.25em;background-color: #f0f8ff;}#sk-container-id-3 input.sk-toggleable__control:checked~div.sk-toggleable__content {max-height: 200px;max-width: 100%;overflow: auto;}#sk-container-id-3 input.sk-toggleable__control:checked~label.sk-toggleable__label-arrow:before {content: \"▾\";}#sk-container-id-3 div.sk-estimator input.sk-toggleable__control:checked~label.sk-toggleable__label {background-color: #d4ebff;}#sk-container-id-3 div.sk-label input.sk-toggleable__control:checked~label.sk-toggleable__label {background-color: #d4ebff;}#sk-container-id-3 input.sk-hidden--visually {border: 0;clip: rect(1px 1px 1px 1px);clip: rect(1px, 1px, 1px, 1px);height: 1px;margin: -1px;overflow: hidden;padding: 0;position: absolute;width: 1px;}#sk-container-id-3 div.sk-estimator {font-family: monospace;background-color: #f0f8ff;border: 1px dotted black;border-radius: 0.25em;box-sizing: border-box;margin-bottom: 0.5em;}#sk-container-id-3 div.sk-estimator:hover {background-color: #d4ebff;}#sk-container-id-3 div.sk-parallel-item::after {content: \"\";width: 100%;border-bottom: 1px solid gray;flex-grow: 1;}#sk-container-id-3 div.sk-label:hover label.sk-toggleable__label {background-color: #d4ebff;}#sk-container-id-3 div.sk-serial::before {content: \"\";position: absolute;border-left: 1px solid gray;box-sizing: border-box;top: 0;bottom: 0;left: 50%;z-index: 0;}#sk-container-id-3 div.sk-serial {display: flex;flex-direction: column;align-items: center;background-color: white;padding-right: 0.2em;padding-left: 0.2em;position: relative;}#sk-container-id-3 div.sk-item {position: relative;z-index: 1;}#sk-container-id-3 div.sk-parallel {display: flex;align-items: stretch;justify-content: center;background-color: white;position: relative;}#sk-container-id-3 div.sk-item::before, #sk-container-id-3 div.sk-parallel-item::before {content: \"\";position: absolute;border-left: 1px solid gray;box-sizing: border-box;top: 0;bottom: 0;left: 50%;z-index: -1;}#sk-container-id-3 div.sk-parallel-item {display: flex;flex-direction: column;z-index: 1;position: relative;background-color: white;}#sk-container-id-3 div.sk-parallel-item:first-child::after {align-self: flex-end;width: 50%;}#sk-container-id-3 div.sk-parallel-item:last-child::after {align-self: flex-start;width: 50%;}#sk-container-id-3 div.sk-parallel-item:only-child::after {width: 0;}#sk-container-id-3 div.sk-dashed-wrapped {border: 1px dashed gray;margin: 0 0.4em 0.5em 0.4em;box-sizing: border-box;padding-bottom: 0.4em;background-color: white;}#sk-container-id-3 div.sk-label label {font-family: monospace;font-weight: bold;display: inline-block;line-height: 1.2em;}#sk-container-id-3 div.sk-label-container {text-align: center;}#sk-container-id-3 div.sk-container {/* jupyter's `normalize.less` sets `[hidden] { display: none; }` but bootstrap.min.css set `[hidden] { display: none !important; }` so we also need the `!important` here to be able to override the default hidden behavior on the sphinx rendered scikit-learn.org. See: https://github.com/scikit-learn/scikit-learn/issues/21755 */display: inline-block !important;position: relative;}#sk-container-id-3 div.sk-text-repr-fallback {display: none;}</style><div id=\"sk-container-id-3\" class=\"sk-top-container\"><div class=\"sk-text-repr-fallback\"><pre>RandomForestClassifier(criterion=&#x27;entropy&#x27;, min_samples_leaf=2)</pre><b>In a Jupyter environment, please rerun this cell to show the HTML representation or trust the notebook. <br />On GitHub, the HTML representation is unable to render, please try loading this page with nbviewer.org.</b></div><div class=\"sk-container\" hidden><div class=\"sk-item\"><div class=\"sk-estimator sk-toggleable\"><input class=\"sk-toggleable__control sk-hidden--visually\" id=\"sk-estimator-id-3\" type=\"checkbox\" checked><label for=\"sk-estimator-id-3\" class=\"sk-toggleable__label sk-toggleable__label-arrow\">RandomForestClassifier</label><div class=\"sk-toggleable__content\"><pre>RandomForestClassifier(criterion=&#x27;entropy&#x27;, min_samples_leaf=2)</pre></div></div></div></div></div>"
      ],
      "text/plain": [
       "RandomForestClassifier(criterion='entropy', min_samples_leaf=2)"
      ]
     },
     "execution_count": 38,
     "metadata": {},
     "output_type": "execute_result"
    }
   ],
   "source": [
    "# Create an instance of Random Forest Classifier with the best parameters\n",
    "best_parameters = {'bootstrap': True, 'criterion': 'entropy', 'max_leaf_nodes': None, 'min_impurity_decrease': 0.0, 'min_samples_leaf': 2, 'min_samples_split': 2}\n",
    "model = RandomForestClassifier(**best_parameters)\n",
    "\n",
    "# Fit the model on the training data\n",
    "model.fit(X_train_resampled, y_train_resampled)"
   ]
  },
  {
   "cell_type": "markdown",
   "metadata": {
    "id": "9gApRHSh5ULW"
   },
   "source": [
    "# **Apply on the New Data**"
   ]
  },
  {
   "cell_type": "code",
   "execution_count": null,
   "metadata": {
    "id": "4tK8Myb434Q7"
   },
   "outputs": [],
   "source": [
    "#Apply the trained model to the unseen dataset\n",
    "predictions = model.predict(new_user_behavior_no_iduser)  # Replace unseen_data with your actual unseen dataset\n",
    "\n",
    "\n"
   ]
  },
  {
   "cell_type": "code",
   "execution_count": null,
   "metadata": {
    "id": "3nlRbFxjzs9f"
   },
   "outputs": [],
   "source": [
    "# Get 'iduser' values for unseen data\n",
    "iduser_values = iduser_new_user_behavior['iduser']\n",
    "\n",
    "# Create a DataFrame to store the results\n",
    "results_df = pd.DataFrame({\n",
    "    'iduser': iduser_values,\n",
    "    'churn_prediction': predictions\n",
    "})\n",
    "\n",
    "# Add the features used for prediction to the results DataFrame\n",
    "results_df = pd.concat([results_df, new_user_behavior_no_iduser], axis=1)\n",
    "\n",
    "#show result\n",
    "results_df\n",
    "\n",
    "# Save the DataFrame to an Excel file\n",
    "results_df.to_excel('user_churn_predictions.xlsx', index=False)"
   ]
  }
 ],
 "metadata": {
  "colab": {
   "provenance": []
  },
  "kernelspec": {
   "display_name": "Python 3 (ipykernel)",
   "language": "python",
   "name": "python3"
  },
  "language_info": {
   "codemirror_mode": {
    "name": "ipython",
    "version": 3
   },
   "file_extension": ".py",
   "mimetype": "text/x-python",
   "name": "python",
   "nbconvert_exporter": "python",
   "pygments_lexer": "ipython3",
   "version": "3.9.12"
  }
 },
 "nbformat": 4,
 "nbformat_minor": 1
}
